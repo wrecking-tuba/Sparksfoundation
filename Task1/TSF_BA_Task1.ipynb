{
  "nbformat": 4,
  "nbformat_minor": 0,
  "metadata": {
    "colab": {
      "name": "TSF_BA_Task1.ipynb",
      "provenance": []
    },
    "kernelspec": {
      "name": "python3",
      "display_name": "Python 3"
    },
    "language_info": {
      "name": "python"
    }
  },
  "cells": [
    {
      "cell_type": "markdown",
      "metadata": {
        "id": "I7pybCpODEbA"
      },
      "source": [
        "# **THE SPARKS FOUNDATION #GRIPSEP21**<br>\n",
        "# Author: Motati Devnath Reddy, Data Science & Business Analytics\n",
        "\n"
      ]
    },
    {
      "cell_type": "markdown",
      "metadata": {
        "id": "pmx7RuFD-rwy"
      },
      "source": [
        "# **PREDICTION USING SUPERVISED ML** "
      ]
    },
    {
      "cell_type": "markdown",
      "metadata": {
        "id": "ogKdlACMAH7h"
      },
      "source": [
        "**Supervised Machine Learning**<br>\n",
        "Supervised learning is the type of machine learning in which machines are trained using well \"labelled\" training data, and on basis of that data, machines predict the output. <br><br>\n",
        "Supervised learning is a process of providing input data as well as correct output data to the machine learning model. The aim of a supervised learning algorithm is to **find a mapping function to map the input variable(x) with the output variable(y).**"
      ]
    },
    {
      "cell_type": "markdown",
      "metadata": {
        "id": "1Y3W59Ix_yiB"
      },
      "source": [
        "**Regression**<br>\n",
        "Regression algorithms are used if there is a relationship between the input variable and the output variable. It is used for the prediction of continuous variables, such as Weather forecasting, Market Trends, etc.<br><br>\n",
        "**Simple Linear Regression**<br>\n",
        "Simple linear regression is useful for finding relationship between two continuous variables. One is predictor or independent variable and other is response or dependent variable. It looks for statistical relationship but not deterministic relationship.<br>\n",
        "The core idea is to obtain a line that best fits the data. The best fit line is the one for which total prediction error (all data points) are as small as possible. Error is the distance between the point to the regression line."
      ]
    },
    {
      "cell_type": "markdown",
      "metadata": {
        "id": "rSE_N2VoCDfx"
      },
      "source": [
        "# **TASK-1:** What will be predicted score if a student studies for 9.25 hrs/day?<br>\n",
        "In this task we will predict the score of a student based on the number of hours he/she has studied. We will make use of simple linear regression as it involves just two variables."
      ]
    },
    {
      "cell_type": "markdown",
      "metadata": {
        "id": "OOU-huciDVqA"
      },
      "source": [
        "**Step-1: Importing the required libraries**"
      ]
    },
    {
      "cell_type": "code",
      "metadata": {
        "id": "Gjl77Di0DelN"
      },
      "source": [
        "import pandas as pd\n",
        "import matplotlib.pyplot as plt\n",
        "from sklearn.linear_model import LinearRegression\n",
        "from sklearn.model_selection import train_test_split\n",
        "from sklearn.metrics import mean_squared_error"
      ],
      "execution_count": 1,
      "outputs": []
    },
    {
      "cell_type": "markdown",
      "metadata": {
        "id": "FWU3bZOaIKeX"
      },
      "source": [
        "**Step-2: Read the input data**"
      ]
    },
    {
      "cell_type": "code",
      "metadata": {
        "colab": {
          "base_uri": "https://localhost:8080/",
          "height": 221
        },
        "id": "QvFXkRygIS0c",
        "outputId": "8f53daa1-999d-4522-c90d-66c09f23fff9"
      },
      "source": [
        "data = pd.read_csv(\"http://bit.ly/w-data\")\n",
        "print(\"Successfully imported data!\")\n",
        "data.head(5)"
      ],
      "execution_count": 2,
      "outputs": [
        {
          "output_type": "stream",
          "name": "stdout",
          "text": [
            "Successfully imported data!\n"
          ]
        },
        {
          "output_type": "execute_result",
          "data": {
            "text/html": [
              "<div>\n",
              "<style scoped>\n",
              "    .dataframe tbody tr th:only-of-type {\n",
              "        vertical-align: middle;\n",
              "    }\n",
              "\n",
              "    .dataframe tbody tr th {\n",
              "        vertical-align: top;\n",
              "    }\n",
              "\n",
              "    .dataframe thead th {\n",
              "        text-align: right;\n",
              "    }\n",
              "</style>\n",
              "<table border=\"1\" class=\"dataframe\">\n",
              "  <thead>\n",
              "    <tr style=\"text-align: right;\">\n",
              "      <th></th>\n",
              "      <th>Hours</th>\n",
              "      <th>Scores</th>\n",
              "    </tr>\n",
              "  </thead>\n",
              "  <tbody>\n",
              "    <tr>\n",
              "      <th>0</th>\n",
              "      <td>2.5</td>\n",
              "      <td>21</td>\n",
              "    </tr>\n",
              "    <tr>\n",
              "      <th>1</th>\n",
              "      <td>5.1</td>\n",
              "      <td>47</td>\n",
              "    </tr>\n",
              "    <tr>\n",
              "      <th>2</th>\n",
              "      <td>3.2</td>\n",
              "      <td>27</td>\n",
              "    </tr>\n",
              "    <tr>\n",
              "      <th>3</th>\n",
              "      <td>8.5</td>\n",
              "      <td>75</td>\n",
              "    </tr>\n",
              "    <tr>\n",
              "      <th>4</th>\n",
              "      <td>3.5</td>\n",
              "      <td>30</td>\n",
              "    </tr>\n",
              "  </tbody>\n",
              "</table>\n",
              "</div>"
            ],
            "text/plain": [
              "   Hours  Scores\n",
              "0    2.5      21\n",
              "1    5.1      47\n",
              "2    3.2      27\n",
              "3    8.5      75\n",
              "4    3.5      30"
            ]
          },
          "metadata": {},
          "execution_count": 2
        }
      ]
    },
    {
      "cell_type": "markdown",
      "metadata": {
        "id": "ssiEcGtKIsSX"
      },
      "source": [
        "**Step-3: Data Preprocessing & Information about the data**"
      ]
    },
    {
      "cell_type": "code",
      "metadata": {
        "colab": {
          "base_uri": "https://localhost:8080/"
        },
        "id": "TzpFu4JNI0g0",
        "outputId": "e498bae5-e5f1-4819-9cb3-79b38f6a44cd"
      },
      "source": [
        "#Check if any value is missing\n",
        "data.isnull().sum()"
      ],
      "execution_count": 3,
      "outputs": [
        {
          "output_type": "execute_result",
          "data": {
            "text/plain": [
              "Hours     0\n",
              "Scores    0\n",
              "dtype: int64"
            ]
          },
          "metadata": {},
          "execution_count": 3
        }
      ]
    },
    {
      "cell_type": "code",
      "metadata": {
        "colab": {
          "base_uri": "https://localhost:8080/"
        },
        "id": "ZbPHSDE2I_nl",
        "outputId": "1e85a994-9638-4623-ffe7-ece6ca35d521"
      },
      "source": [
        "#info about the loaded data\n",
        "data.info()"
      ],
      "execution_count": 4,
      "outputs": [
        {
          "output_type": "stream",
          "name": "stdout",
          "text": [
            "<class 'pandas.core.frame.DataFrame'>\n",
            "RangeIndex: 25 entries, 0 to 24\n",
            "Data columns (total 2 columns):\n",
            " #   Column  Non-Null Count  Dtype  \n",
            "---  ------  --------------  -----  \n",
            " 0   Hours   25 non-null     float64\n",
            " 1   Scores  25 non-null     int64  \n",
            "dtypes: float64(1), int64(1)\n",
            "memory usage: 528.0 bytes\n"
          ]
        }
      ]
    },
    {
      "cell_type": "markdown",
      "metadata": {
        "id": "8y01L3d3JLTu"
      },
      "source": [
        "**Step-4: Setting up the Independent and Dependent Variable**"
      ]
    },
    {
      "cell_type": "code",
      "metadata": {
        "id": "7dSCPZBtJZT_"
      },
      "source": [
        "#independent variable\n",
        "x = data['Hours']\n",
        "#dependent variable\n",
        "y = data['Scores']\n",
        "#reshapes the x value array with len(x) rows and 1 column\n",
        "x = x.values.reshape(len(x),1)\n",
        "#reshapes the y value array with len(y) rows and 1 column\n",
        "y = y.values.reshape(len(y),1)"
      ],
      "execution_count": 5,
      "outputs": []
    },
    {
      "cell_type": "markdown",
      "metadata": {
        "id": "d2drZ_Y9L9ME"
      },
      "source": [
        "**Step-5: Building the Model**"
      ]
    },
    {
      "cell_type": "code",
      "metadata": {
        "colab": {
          "base_uri": "https://localhost:8080/"
        },
        "id": "LxatkibZMN0U",
        "outputId": "6522c269-d358-41ee-d2bc-f1ed263f0fd7"
      },
      "source": [
        "#Splitting the data into training and test set\n",
        "x_train, x_test, y_train, y_test = train_test_split(x, y, test_size=0.2, random_state=0)\n",
        "\n",
        "#Create an instance of LinearRegression\n",
        "lr = LinearRegression()\n",
        "\n",
        "#Fit linear model\n",
        "lr.fit(x_train, y_train)\n"
      ],
      "execution_count": 6,
      "outputs": [
        {
          "output_type": "execute_result",
          "data": {
            "text/plain": [
              "LinearRegression(copy_X=True, fit_intercept=True, n_jobs=None, normalize=False)"
            ]
          },
          "metadata": {},
          "execution_count": 6
        }
      ]
    },
    {
      "cell_type": "markdown",
      "metadata": {
        "id": "6LgQiCF8NrYu"
      },
      "source": [
        "**Step-6: Find the Mean Squared Error(MSE)**"
      ]
    },
    {
      "cell_type": "code",
      "metadata": {
        "colab": {
          "base_uri": "https://localhost:8080/"
        },
        "id": "rqD7wx8TN-1w",
        "outputId": "32c91531-ecca-42e8-8b6b-ebbe4b0d79ca"
      },
      "source": [
        "#Predict y from the test set of x and y\n",
        "y_pred = lr.predict(x_test)\n",
        "#Find the MSE\n",
        "mse = mean_squared_error(y_test, y_pred)\n",
        "\n",
        "print(\"Mean Square Error = \", mse)"
      ],
      "execution_count": 7,
      "outputs": [
        {
          "output_type": "stream",
          "name": "stdout",
          "text": [
            "Mean Square Error =  21.598769307217456\n"
          ]
        }
      ]
    },
    {
      "cell_type": "markdown",
      "metadata": {
        "id": "xD7EHWQMUWfL"
      },
      "source": [
        "**An MSE closer to 0 is preferred** <br>\n",
        "test_size=0.1 -> Mean Square Error =  32.865569647342106 <br>\n",
        "test_size=0.2 -> Mean Square Error =  21.598769307217456 <br>\n",
        "test_size=0.3 -> Mean Square Error =  22.965097212700428 <br>\n",
        "test_size=0.4 -> Mean Square Error =  26.034569687682232 <br>\n",
        "\n",
        "Therefore we have chosen test_size=0.2 since it has the lowest MSE value."
      ]
    },
    {
      "cell_type": "markdown",
      "metadata": {
        "id": "gCekxERQOaY8"
      },
      "source": [
        "**Step-7: Plot the Best Fit Line**"
      ]
    },
    {
      "cell_type": "code",
      "metadata": {
        "colab": {
          "base_uri": "https://localhost:8080/",
          "height": 295
        },
        "id": "CrDkQ8e4Oh8D",
        "outputId": "3183a7eb-577b-48d2-a620-f76941350d61"
      },
      "source": [
        "#lr.intercept_: Independent term in the linear model.\n",
        "#lr.coef_: Estimated coefficients for the linear regression problem.\n",
        "#We predict line(y), x is the input variable we know.\n",
        "line = lr.intercept_ + lr.coef_ * x\n",
        "#Draw the scatter plot diagram\n",
        "plt.scatter(x, y)\n",
        "plt.title('Hours/day vs Scores')\n",
        "plt.xlabel('Hours studied per day')\n",
        "plt.ylabel('Scores obtained')\n",
        "#To plot it on the canvas\n",
        "plt.plot(x, line, color='red', linewidth=2)\n",
        "#To view the plotted graph\n",
        "plt.show()"
      ],
      "execution_count": 10,
      "outputs": [
        {
          "output_type": "display_data",
          "data": {
            "image/png": "[encoded data removed]",
            "text/plain": [
              "<Figure size 432x288 with 1 Axes>"
            ]
          },
          "metadata": {
            "needs_background": "light"
          }
        }
      ]
    },
    {
      "cell_type": "markdown",
      "metadata": {
        "id": "l00oAo9_RTL6"
      },
      "source": [
        "**Step-8: Make the Prediction**"
      ]
    },
    {
      "cell_type": "code",
      "metadata": {
        "colab": {
          "base_uri": "https://localhost:8080/"
        },
        "id": "ov3wzWtkRUIL",
        "outputId": "cb42da30-02ab-4949-fa35-745d70110bad"
      },
      "source": [
        "#We need to predict for x = 9.25 hours/day\n",
        "Y = lr.intercept_ + lr.coef_ * 9.25\n",
        "\n",
        "print(\"If a student studies for 9.25 hours/day it his/her marks is predicted to be = \", Y)"
      ],
      "execution_count": 11,
      "outputs": [
        {
          "output_type": "stream",
          "name": "stdout",
          "text": [
            "If a student studies for 9.25 hours/day it his/her marks is predicted to be =  [[93.69173249]]\n"
          ]
        }
      ]
    }
  ]
}